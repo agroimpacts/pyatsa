{
 "cells": [
  {
   "cell_type": "markdown",
   "metadata": {},
   "source": [
    "## Figures"
   ]
  },
  {
   "cell_type": "markdown",
   "metadata": {},
   "source": [
    "UDM2 Metadata\n",
    "https://developers.planet.com/docs/api/udm-2/\n",
    "\n",
    "\n",
    "Band\tDescription\tPixel Value Range\tInterpretation\n",
    "\n",
    "Band 1\tClear map\t[0, 1]\t0: not clear, 1: clear\n",
    "\n",
    "Band 2\tSnow map\t[0, 1]\t0: no snow or ice, 1: snow or ice\n",
    "\n",
    "Band 3\tShadow map\t[0, 1]\t0: no shadow, 1: shadow\n",
    "\n",
    "Band 4\tLight haze map\t[0, 1]\t0: no light haze, 1: light haze\n",
    "\n",
    "Band 5\tHeavy haze map\t[0, 1]\t0: no heavy haze, 1: heavy haze\n",
    "\n",
    "Band 6\tCloud map\t[0, 1]\t0: no cloud, 1: cloud\n",
    "\n",
    "Band 7\tConfidence map\t[0-100]\tpercentage value: per-pixel algorithmic confidence in classification\n",
    "\n",
    "Band 8\tUnusable pixels\t--\tEquivalent to the UDM asset: see Planet's Imagery Specification for complete details"
   ]
  },
  {
   "cell_type": "code",
   "execution_count": null,
   "metadata": {},
   "outputs": [],
   "source": [
    "%matplotlib inline\n",
    "import xarray as xr\n",
    "import rioxarray\n",
    "from pyatsa.tseries_preprocess import read_clean_tseries_as_xarr\n",
    "import matplotlib.pyplot as plt\n",
    "import numpy as np\n",
    "import skimage.io as skio\n",
    "\n",
    "def normalize(v):\n",
    "    v_min = v.min(axis=(0, 1), keepdims=True)\n",
    "    v_max = v.max(axis=(0, 1), keepdims=True)\n",
    "    return (v - v_min)/(v_max - v_min)\n",
    "\n",
    "def reassign_coords_to_masks(t_series, atsa_masks):\n",
    "    \"\"\"\n",
    "    rioxarray fails to assign the right coordinates sometimes, so we reassign them here based on \n",
    "    coordinates from the time series products.\n",
    "    \"\"\"\n",
    "    atsa_masks = atsa_masks.rename({'band':'time'}).assign_coords(time=t_series['reflectance'].time)\n",
    "    atsa_masks = atsa_masks.assign_coords(y=t_series['reflectance'].y)\n",
    "    atsa_masks = atsa_masks.assign_coords(x=t_series['reflectance'].x)\n",
    "    return atsa_masks\n",
    "\n",
    "\n",
    "def plot_date(t_series, atsa_masks, date_string):\n",
    "    \"\"\"\n",
    "    Plots the results from a pyatsa run and the time series products (reflectance, udm, udm2).\n",
    "    \n",
    "    Before running this function, reflectance, udm, and udm2 should be downloaded from Planet\n",
    "    and placed in a folder. Then call tseries_preprocess.read_clean_tseries_as_xarr() to read in\n",
    "    the time series products. Run pyatsa_explore.py to generate the ATSA masks. \n",
    "    TODO make pyatsa_explore a callable script.\n",
    "    \"\"\"\n",
    "    \n",
    "    fig, axes = plt.subplots(ncols=3, nrows=2, figsize=(18,12))\n",
    "    \n",
    "    xr.plot.imshow(xr.concat([t_series['reflectance'].sel(time=date_string, band=3),\n",
    "           t_series['reflectance'].sel(time=date_string, band=2),\n",
    "           t_series['reflectance'].sel(time=date_string, band=1)], \n",
    "          dim='band'), robust=True, ax=axes[0,0])\n",
    "    \n",
    "    atsa_masks.name = 'ATSA masks'\n",
    "    \n",
    "    atsa_masks.sel(time=date_string).plot(ax=axes[0,1])\n",
    "    \n",
    "    t_series['udm'].name = 'UDM1'\n",
    "    \n",
    "    t_series['udm'].sel(time=date_string, band=1).plot(ax=axes[0,2])\n",
    "    \n",
    "    t_series['udm2'].name = 'UDM2 Shadow'\n",
    "    \n",
    "    t_series['udm2'].sel(time=date_string, band=3).plot(ax=axes[1,0])\n",
    "    \n",
    "    t_series['udm2'].name = 'UDM2 Confidence'\n",
    "    \n",
    "    t_series['udm2'].sel(time=date_string, band=7).plot(ax=axes[1,1])\n",
    "    \n",
    "    t_series['udm2'].name = 'UDM2 Cloud and Haze'\n",
    "    \n",
    "    cloud_and_haze = xr.concat([t_series['udm2'].sel(time=date_string, band=6),\n",
    "           t_series['udm2'].sel(time=date_string, band=5),\n",
    "           t_series['udm2'].sel(time=date_string, band=4)], \n",
    "          dim='band')\n",
    "    \n",
    "    xr.plot.imshow(cloud_and_haze, ax=axes[1,2], robust=True)\n",
    "\n",
    "    print(np.unique(cloud_and_haze))"
   ]
  },
  {
   "cell_type": "code",
   "execution_count": null,
   "metadata": {},
   "outputs": [],
   "source": [
    "t_series_ag = read_clean_tseries_as_xarr(\n",
    "    \"/home/rave/pyatsa/cfg/buffered_imgs/ag-forestry/\")\n",
    "atsa_masks_ag = xr.open_rasterio(\"/home/rave/pyatsa/cfg/atsa_results/ag-forestmasks.tif\")"
   ]
  },
  {
   "cell_type": "code",
   "execution_count": null,
   "metadata": {},
   "outputs": [],
   "source": [
    "t_series_sav = read_clean_tseries_as_xarr(\n",
    "    \"/home/rave/pyatsa/cfg/buffered_imgs/savanna/\")\n",
    "atsa_masks_sav = xr.open_rasterio(\"/home/rave/pyatsa/cfg/atsa_results/savanamasks.tif\")"
   ]
  },
  {
   "cell_type": "code",
   "execution_count": null,
   "metadata": {},
   "outputs": [],
   "source": [
    "t_series_for = read_clean_tseries_as_xarr(\n",
    "    \"/home/rave/pyatsa/cfg/buffered_imgs/forest/\")\n",
    "atsa_masks_for = xr.open_rasterio(\"/home/rave/pyatsa/cfg/atsa_results/forestmasks.tif\")"
   ]
  },
  {
   "cell_type": "code",
   "execution_count": null,
   "metadata": {},
   "outputs": [],
   "source": [
    "t_series_city = read_clean_tseries_as_xarr(\n",
    "    \"/home/rave/pyatsa/cfg/buffered_imgs/city/\")\n",
    "atsa_masks_city = xr.open_rasterio(\"/home/rave/pyatsa/cfg/atsa_results/citymasks.tif\")"
   ]
  },
  {
   "cell_type": "code",
   "execution_count": null,
   "metadata": {},
   "outputs": [],
   "source": [
    "atsa_masks_ag = reassign_coords_to_masks(t_series_ag, atsa_masks_ag)\n",
    "atsa_masks_sav = reassign_coords_to_masks(t_series_sav, atsa_masks_sav)\n",
    "atsa_masks_for = reassign_coords_to_masks(t_series_for, atsa_masks_for)\n",
    "atsa_masks_city = reassign_coords_to_masks(t_series_city, atsa_masks_city)"
   ]
  },
  {
   "cell_type": "code",
   "execution_count": null,
   "metadata": {},
   "outputs": [],
   "source": [
    "atsa_masks_ag.time"
   ]
  },
  {
   "cell_type": "code",
   "execution_count": null,
   "metadata": {},
   "outputs": [],
   "source": [
    "plot_date(t_series_ag, atsa_masks_ag, '2019-05-26')"
   ]
  },
  {
   "cell_type": "code",
   "execution_count": null,
   "metadata": {},
   "outputs": [],
   "source": []
  },
  {
   "cell_type": "code",
   "execution_count": null,
   "metadata": {},
   "outputs": [],
   "source": []
  },
  {
   "cell_type": "markdown",
   "metadata": {},
   "source": [
    "Old Figures"
   ]
  },
  {
   "cell_type": "code",
   "execution_count": null,
   "metadata": {},
   "outputs": [],
   "source": [
    "samples = [\"forest\", \"ag-forestry\", \"city\", \"savanna\"]\n",
    "f, axarr = plt.subplots(1,4, figsize=(35,10))\n",
    "for i,sample in enumerate(samples):\n",
    "    arr = skio.imread(\"/home/rave/pyatsa/cfg/buffered_chips/scene_number_\"+str(24)+\"_\"+sample+\"_.tif\")\n",
    "    axarr[i].imshow(normalize(arr))\n",
    "    axarr[i].set_title(sample, fontsize=50)\n",
    "plt.savefig(\"/home/rave/pyatsa/figures/Figure_1.png\")"
   ]
  },
  {
   "cell_type": "code",
   "execution_count": null,
   "metadata": {},
   "outputs": [],
   "source": []
  },
  {
   "cell_type": "markdown",
   "metadata": {},
   "source": [
    "### 2 - Comparing ATSA, UDM and True Color"
   ]
  },
  {
   "cell_type": "code",
   "execution_count": null,
   "metadata": {},
   "outputs": [],
   "source": [
    "def plot_matching_imgs(scene_id, sample, atsa_masks, udm_masks, udm2_masks, figname):\n",
    "\n",
    "    atsa = atsa_masks[scene_id]\n",
    "    udm = udm_masks[scene_id]\n",
    "    cloud_and_heavy = np.where(udm2_masks[:,:,5,scene_id],4,udm2_masks[:,:,4,scene_id]*3)\n",
    "    cloud_and_heavy_and_light = np.where(cloud_and_heavy,cloud_and_heavy,udm2_masks[:,:,3,scene_id]*2)\n",
    "    udm2 = np.where(cloud_and_heavy_and_light, cloud_and_heavy_and_light, udm2_masks[:,:,2,scene_id])\n",
    "    arr = skio.imread(\"/home/rave/cloud-free-planet/cfg/buffered_chips/scene_number_\"+str(scene_id)+\"_\"+sample+\"_.tif\")\n",
    "    f, axarr = plt.subplots(1,4, figsize=(35,10))\n",
    "    for i, img in enumerate([(arr, \"RGB\"), (atsa, \"ATSA Result\"), (udm, \"Usable Data Mask Version 1\"), (udm2, \"Usable Data Mask Version 2\")]):\n",
    "        if img[0].shape[-1] == 3:\n",
    "            normed = normalize(img[0])\n",
    "            axarr[i].imshow(normed)\n",
    "        else:\n",
    "            axarr[i].imshow(img[0], \"cubehelix\")\n",
    "        axarr[i].set_title(img[1], fontsize=30)\n",
    "    plt.savefig(figname)"
   ]
  },
  {
   "cell_type": "code",
   "execution_count": null,
   "metadata": {},
   "outputs": [],
   "source": [
    "atsa_masks = skio.imread(\"/home/rave/cloud-free-planet/cfg/atsa_results/forest_cloud_and_shadow_masks.tif\")\n",
    "udm_masks = skio.imread(\"/home/rave/cloud-free-planet/cfg/buffered_stacked/forest_udm_stacked.tif\")\n",
    "udm_masks = np.where(udm_masks > 0, 1, 0)\n",
    "udm2_masks = skio.imread(\"/home/rave/cloud-free-planet/cfg/buffered_stacked/forest_udm2_stacked.tif\")\n",
    "udm2_masks = np.reshape(udm2_masks, (udm2_masks.shape[0],udm2_masks.shape[1], 8, int(udm2_masks.shape[2]/8)), order='F')\n"
   ]
  },
  {
   "cell_type": "markdown",
   "metadata": {},
   "source": [
    "## 0 is RGB, 1 is ATSA Mask, 2 is UDM with all values above 0 unioned, and 3 is UDM2"
   ]
  },
  {
   "cell_type": "code",
   "execution_count": null,
   "metadata": {},
   "outputs": [],
   "source": [
    "plot_matching_imgs(38, \"forest\", atsa_masks, udm_masks, udm2_masks, \"Forest_Results_Cloudy2.png\")"
   ]
  },
  {
   "cell_type": "code",
   "execution_count": null,
   "metadata": {},
   "outputs": [],
   "source": [
    "plot_matching_imgs(20, \"forest\", atsa_masks, udm_masks, udm2_masks)"
   ]
  },
  {
   "cell_type": "code",
   "execution_count": null,
   "metadata": {},
   "outputs": [],
   "source": [
    "### ATSA is masked as all cloud (value of 2)"
   ]
  },
  {
   "cell_type": "code",
   "execution_count": null,
   "metadata": {},
   "outputs": [],
   "source": [
    "plot_matching_imgs(30, \"forest\", atsa_masks, udm_masks, udm2_masks)"
   ]
  },
  {
   "cell_type": "code",
   "execution_count": null,
   "metadata": {},
   "outputs": [],
   "source": [
    "np.unique(atsa_masks[30])"
   ]
  },
  {
   "cell_type": "code",
   "execution_count": null,
   "metadata": {},
   "outputs": [],
   "source": [
    "atsa_masks = skio.imread(\"/home/rave/cloud-free-planet/cfg/atsa_results/city_cloud_and_shadow_masks.tif\")\n",
    "udm_masks = skio.imread(\"/home/rave/cloud-free-planet/cfg/buffered_stacked/city_udm_stacked.tif\")\n",
    "udm_masks = np.where(udm_masks > 0, 1, 0)\n",
    "udm2_masks = skio.imread(\"/home/rave/cloud-free-planet/cfg/buffered_stacked/city_udm2_stacked.tif\")\n",
    "udm2_masks = np.reshape(udm2_masks, (udm2_masks.shape[0],udm2_masks.shape[1], 8, int(udm2_masks.shape[2]/8)), order='F')\n"
   ]
  },
  {
   "cell_type": "code",
   "execution_count": null,
   "metadata": {},
   "outputs": [],
   "source": [
    "plot_matching_imgs(10, \"savanna\", atsa_masks, udm_masks, udm2_masks, \"Savanna_Results_Cloudy.png\")"
   ]
  },
  {
   "cell_type": "code",
   "execution_count": null,
   "metadata": {},
   "outputs": [],
   "source": [
    "scene_id = 38\n",
    "cloud_and_heavy = np.where(udm2_masks[:,:,5,scene_id],4,udm2_masks[:,:,4,scene_id]*3)\n",
    "cloud_and_heavy_and_light = np.where(cloud_and_heavy,cloud_and_heavy,udm2_masks[:,:,3,scene_id]*2)\n",
    "udm2 = np.where(cloud_and_heavy_and_light, cloud_and_heavy_and_light, udm2_masks[:,:,2,scene_id])"
   ]
  },
  {
   "cell_type": "code",
   "execution_count": null,
   "metadata": {},
   "outputs": [],
   "source": [
    "np.unique(udm2)"
   ]
  },
  {
   "cell_type": "code",
   "execution_count": null,
   "metadata": {},
   "outputs": [],
   "source": [
    "skio.imshow(udm2)"
   ]
  },
  {
   "cell_type": "code",
   "execution_count": null,
   "metadata": {},
   "outputs": [],
   "source": [
    "plot_matching_imgs(20, \"city\", atsa_masks, udm_masks, udm2_masks)"
   ]
  },
  {
   "cell_type": "code",
   "execution_count": null,
   "metadata": {},
   "outputs": [],
   "source": [
    "plot_matching_imgs(30, \"city\", atsa_masks, udm_masks, udm2_masks)"
   ]
  },
  {
   "cell_type": "code",
   "execution_count": null,
   "metadata": {},
   "outputs": [],
   "source": [
    "plot_matching_imgs(29, \"city\", atsa_masks, udm_masks, udm2_masks)"
   ]
  },
  {
   "cell_type": "code",
   "execution_count": null,
   "metadata": {},
   "outputs": [],
   "source": [
    "plot_matching_imgs(31, \"city\", atsa_masks, udm_masks, udm2_masks)"
   ]
  },
  {
   "cell_type": "code",
   "execution_count": null,
   "metadata": {},
   "outputs": [],
   "source": [
    "atsa_masks = skio.imread(\"/home/rave/cloud-free-planet/cfg/atsa_results/savanna_cloud_and_shadow_masks.tif\")\n",
    "udm_masks = skio.imread(\"/home/rave/cloud-free-planet/cfg/buffered_stacked/savanna_udm_stacked.tif\")\n",
    "udm_masks = np.where(udm_masks > 0, 1, 0)\n",
    "udm2_masks = skio.imread(\"/home/rave/cloud-free-planet/cfg/buffered_stacked/savanna_udm2_stacked.tif\")\n",
    "udm2_masks = np.reshape(udm2_masks, (udm2_masks.shape[0],udm2_masks.shape[1], 8, int(udm2_masks.shape[2]/8)), order='F')"
   ]
  },
  {
   "cell_type": "code",
   "execution_count": null,
   "metadata": {},
   "outputs": [],
   "source": [
    "skio.imshow(udm_masks[0])"
   ]
  },
  {
   "cell_type": "code",
   "execution_count": null,
   "metadata": {},
   "outputs": [],
   "source": [
    "plot_matching_imgs(40, \"savanna\", atsa_masks, udm_masks, udm2_masks, \"Savanna_water.png\")"
   ]
  },
  {
   "cell_type": "code",
   "execution_count": null,
   "metadata": {},
   "outputs": [],
   "source": [
    "plot_matching_imgs(57, \"savanna\", atsa_masks, udm_masks, udm2_masks)"
   ]
  },
  {
   "cell_type": "code",
   "execution_count": null,
   "metadata": {},
   "outputs": [],
   "source": [
    "atsa_masks.shape"
   ]
  },
  {
   "cell_type": "code",
   "execution_count": null,
   "metadata": {},
   "outputs": [],
   "source": [
    "np.unique(atsa_masks[20])"
   ]
  },
  {
   "cell_type": "code",
   "execution_count": null,
   "metadata": {},
   "outputs": [],
   "source": [
    "plot_matching_imgs(40, \"savanna\", atsa_masks, udm_masks, udm2_masks)"
   ]
  },
  {
   "cell_type": "code",
   "execution_count": null,
   "metadata": {},
   "outputs": [],
   "source": [
    "atsa_masks = skio.imread(\"/home/rave/cloud-free-planet/cfg/atsa_results/ag-forestry_cloud_and_shadow_masks.tif\")\n",
    "udm_masks = skio.imread(\"/home/rave/cloud-free-planet/cfg/buffered_stacked/ag-forestry_udm_stacked.tif\")\n",
    "udm_masks = np.where(udm_masks > 0, 1, 0)\n",
    "udm2_masks = skio.imread(\"/home/rave/cloud-free-planet/cfg/buffered_stacked/ag-forestry_udm2_stacked.tif\")\n",
    "udm2_masks = np.reshape(udm2_masks, (udm2_masks.shape[0],udm2_masks.shape[1], 8, int(udm2_masks.shape[2]/8)), order='F')"
   ]
  },
  {
   "cell_type": "code",
   "execution_count": null,
   "metadata": {},
   "outputs": [],
   "source": [
    "plot_matching_imgs(0, \"ag-forestry\", atsa_masks, udm_masks, udm2_masks, \"Savanna_1.png\")"
   ]
  },
  {
   "cell_type": "code",
   "execution_count": null,
   "metadata": {},
   "outputs": [],
   "source": [
    "plot_matching_imgs(10, \"ag-forestry\", atsa_masks, udm_masks, udm2_masks, \"Savanna_2.png\")"
   ]
  },
  {
   "cell_type": "code",
   "execution_count": null,
   "metadata": {},
   "outputs": [],
   "source": [
    "plot_matching_imgs(20, \"ag-forestry\", atsa_masks, udm_masks, udm2_masks, \"Savanna_3.png\")"
   ]
  },
  {
   "cell_type": "code",
   "execution_count": null,
   "metadata": {},
   "outputs": [],
   "source": [
    "plot_matching_imgs(30, \"ag-forestry\", atsa_masks, udm_masks, udm2_masks, \"Savanna_4.png\")"
   ]
  },
  {
   "cell_type": "code",
   "execution_count": null,
   "metadata": {},
   "outputs": [],
   "source": [
    "plot_matching_imgs(40, \"ag-forestry\", atsa_masks, udm_masks, udm2_masks, \"Savanna_5.png\")"
   ]
  },
  {
   "cell_type": "code",
   "execution_count": null,
   "metadata": {},
   "outputs": [],
   "source": []
  }
 ],
 "metadata": {
  "kernelspec": {
   "display_name": "Python [conda env:pyatsa]",
   "language": "python",
   "name": "conda-env-pyatsa-py"
  },
  "language_info": {
   "codemirror_mode": {
    "name": "ipython",
    "version": 3
   },
   "file_extension": ".py",
   "mimetype": "text/x-python",
   "name": "python",
   "nbconvert_exporter": "python",
   "pygments_lexer": "ipython3",
   "version": "3.7.3"
  }
 },
 "nbformat": 4,
 "nbformat_minor": 4
}
